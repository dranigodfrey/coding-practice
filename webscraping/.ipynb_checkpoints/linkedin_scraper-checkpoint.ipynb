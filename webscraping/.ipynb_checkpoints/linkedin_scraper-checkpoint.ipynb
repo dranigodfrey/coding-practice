{
 "cells": [
  {
   "cell_type": "code",
   "execution_count": 208,
   "id": "0ee8ebd0-8168-4814-8464-4233e3e1b67b",
   "metadata": {},
   "outputs": [],
   "source": [
    "from selenium import webdriver\n",
    "from selenium.webdriver.chrome.options import Options\n",
    "from selenium.webdriver.chrome.service import Service\n",
    "from selenium.webdriver.common.keys import Keys\n",
    "from selenium.webdriver.common.by import By\n",
    "from selenium.webdriver.support.ui import WebDriverWait\n",
    "from selenium.webdriver.support import expected_conditions as EC\n",
    "import time"
   ]
  },
  {
   "cell_type": "code",
   "execution_count": 579,
   "id": "d5527513-b98f-44ec-93cf-872f561e08f6",
   "metadata": {},
   "outputs": [],
   "source": [
    "service = Service(excutable_path=\"chromedriver.exe\")\n",
    "driver = webdriver.Chrome(service=service)\n",
    "driver.maximize_window()\n",
    "driver.get('https://www.linkedin.com/')\n",
    "\n",
    "\n",
    "wait = WebDriverWait(driver, 10)"
   ]
  },
  {
   "cell_type": "code",
   "execution_count": 568,
   "id": "2027557f-fa55-43f6-b43b-be8d8dbfdff6",
   "metadata": {},
   "outputs": [],
   "source": [
    "# Function to smoothly scroll to the bottom of the page\n",
    "def smooth_scroll_to_bottom():\n",
    "    # Get the initial page height\n",
    "    last_height = driver.execute_script(\"return document.body.scrollHeight\")\n",
    "    \n",
    "    while True:\n",
    "        # Scroll down by a small increment\n",
    "        driver.execute_script(\"window.scrollBy(0, document.body.scrollHeight);\")\n",
    "        \n",
    "        # Wait for new content to load\n",
    "        time.sleep(0.5)  # Adjust the sleep time as needed\n",
    "        \n",
    "        # Get the new page height\n",
    "        new_height = driver.execute_script(\"return document.body.scrollHeight\")\n",
    "        \n",
    "        # If no new content is loaded, stop scrolling\n",
    "        if new_height == last_height:\n",
    "            break\n",
    "        \n",
    "        # Update the last height\n",
    "        last_height = new_height\n"
   ]
  },
  {
   "cell_type": "code",
   "execution_count": 580,
   "id": "baae294b-2ac8-4ee2-bd2a-ff4c260c3ba2",
   "metadata": {},
   "outputs": [],
   "source": [
    "\n",
    "# Navigate to the jobs page \n",
    "wait.until(EC.presence_of_element_located((By.CLASS_NAME, \"nav\")))\n",
    "driver.find_element(By.XPATH, \"//a[@href='https://www.linkedin.com/jobs/search?trk=guest_homepage-basic_guest_nav_menu_jobs']\").click()\n",
    "\n",
    "# close if there is any popup modal \n",
    "try:\n",
    "    driver.find_element(By.CLASS_NAME, \"modal__dismiss\").click()\n",
    "except Exception as e:\n",
    "    print(f\"Model {e}\")\n",
    "    \n"
   ]
  },
  {
   "cell_type": "code",
   "execution_count": 570,
   "id": "909575e9-6cea-4e6d-a98f-1c56d77eefe8",
   "metadata": {},
   "outputs": [
    {
     "name": "stdout",
     "output_type": "stream",
     "text": [
      "60\n"
     ]
    }
   ],
   "source": [
    "# Scroll to load all content\n",
    "smooth_scroll_to_bottom()\n",
    "# job_search_results = driver.find_element(By.CLASS_NAME, \"jobs-search__results-list\")\n",
    "jobs = driver.find_elements(By.CLASS_NAME, \"job-search-card\")\n",
    "print(len(jobs))"
   ]
  },
  {
   "cell_type": "code",
   "execution_count": 581,
   "id": "6a47ea15-6c93-43bc-ac6f-6dd4b35d98dc",
   "metadata": {},
   "outputs": [
    {
     "name": "stdout",
     "output_type": "stream",
     "text": [
      "59\n",
      "Scraped 3 jobs sucessfully\n"
     ]
    }
   ],
   "source": [
    "# locate the list of jobs \n",
    "jobs = driver.find_elements(By.CLASS_NAME, \"job-search-card\")\n",
    "print(len(jobs))\n",
    "jobs_fetched = []\n",
    "number_of_jobs_to_be_scrap = 1\n",
    "try:\n",
    "    # loop through each job\n",
    "    for job_counter in range(number_of_jobs_to_be_scrap):  \n",
    "        # re-locate the list of jobs of to avoid stale elements\n",
    "        jobs = driver.find_elements(By.CLASS_NAME, \"job-search-card\")\n",
    "        number_of_jobs_loaded = len(jobs)\n",
    "        \n",
    "        # click on the current job \n",
    "        job = jobs[job_counter]\n",
    "        job.find_element(By.CLASS_NAME, \"base-card__full-link\").click()\n",
    "    \n",
    "        # wait for the detailed page to load \n",
    "        time.sleep(1)\n",
    "        wait.until(EC.presence_of_element_located((By.CLASS_NAME, \"two-pane-serp-page__detail-view\")))\n",
    "    \n",
    "        # Extract detailed information \n",
    "        job_title = driver.find_element(By.CLASS_NAME, \"top-card-layout__title\").text\n",
    "        company_name = driver.find_element(By.CLASS_NAME, \"topcard__org-name-link\").text\n",
    "        job_location = driver.find_element(By.CLASS_NAME, \"topcard__flavor--bullet\").text\n",
    "        job_description= driver.find_element(By.CLASS_NAME, \"decorated-job-posting__details\").get_attribute(\"innerText\")\n",
    "\n",
    "        job_detail = {\n",
    "            \"Title\": job_title,\n",
    "            \"Company\": company_name,\n",
    "            \"Location\": job_location,\n",
    "            \"Description\": job_description\n",
    "        }\n",
    "        jobs_fetched.append(job_detail)\n",
    "        \n",
    "        # print(\"-\" * 100)\n",
    "        # print(f'Job {job_counter+1}')\n",
    "        # print(\"-\" * 100)\n",
    "        # print(f\"Title: {job_title}\")\n",
    "        # print(f\"Company: {company_name}\")\n",
    "        # print(f\"Location: {job_location}\")\n",
    "        # print(f\"Description: {job_description}\")\n",
    "        # # print(\"-\" * 100)\n",
    "    \n",
    "        # # Go back to the list of jobs \n",
    "        driver.back\n",
    "        \n",
    "        try:\n",
    "            if job_counter == number_of_jobs_loaded-1:\n",
    "                time.sleep(2)\n",
    "                try:\n",
    "                    see_more_jobs = driver.find_element(By.XPATH, \"//button[@aria-label='See more jobs']\")\n",
    "                    if see_more_jobs:\n",
    "                        see_more_jobs.click()\n",
    "                        time.sleep(2)\n",
    "                except:\n",
    "                    pass\n",
    "                    \n",
    "                finally:\n",
    "                    # smooth_scroll_to_bottom()\n",
    "                    driver.execute_script(\"window.scrollTo(0, document.body.scrollHeight);\")\n",
    "                    \n",
    "        except:\n",
    "            pass\n",
    "    \n",
    "        try:\n",
    "            see_more_jobs = driver.find_element(By.XPATH, \"//button[@aria-label='See more jobs']\")\n",
    "            if see_more_jobs:\n",
    "                time.sleep(2)\n",
    "                # see_more_jobs.click()\n",
    "                driver.execute_script(\"arguments[0].click();\", see_more_jobs)\n",
    "                # jobs = driver.find_elements(By.CLASS_NAME, \"job-search-card\")\n",
    "    \n",
    "        except:\n",
    "            pass\n",
    "    \n",
    "        # # wait for the list to load again \n",
    "        wait.until(EC.presence_of_element_located((By.CLASS_NAME, \"job-search-card\")))\n",
    "    \n",
    "except Exception as e:\n",
    "                print(f'Scraped {job_counter} jobs, there are no more jobs in the search results: {e}')\n",
    "\n",
    "finally: \n",
    "    print(f'Scraped {len(jobs_fetched)} jobs sucessfully')\n",
    "    # close the brower\n",
    "    # driver.quit()\n"
   ]
  },
  {
   "cell_type": "code",
   "execution_count": 578,
   "id": "7e23fe08-53ec-4ef9-93cf-650d57e21a3c",
   "metadata": {},
   "outputs": [
    {
     "data": {
      "text/plain": [
       "100"
      ]
     },
     "execution_count": 578,
     "metadata": {},
     "output_type": "execute_result"
    }
   ],
   "source": [
    "len(jobs_fetched)"
   ]
  },
  {
   "cell_type": "code",
   "execution_count": null,
   "id": "f691f5ad-f068-47fc-8885-e3c229e8de19",
   "metadata": {},
   "outputs": [],
   "source": []
  },
  {
   "cell_type": "code",
   "execution_count": null,
   "id": "bde667d9-9a92-48fb-9b58-a774a1057eef",
   "metadata": {},
   "outputs": [],
   "source": []
  },
  {
   "cell_type": "code",
   "execution_count": null,
   "id": "bd9b4a4b-4a3b-460d-9bc8-cb6fc021505e",
   "metadata": {},
   "outputs": [],
   "source": []
  }
 ],
 "metadata": {
  "kernelspec": {
   "display_name": "Python 3 (ipykernel)",
   "language": "python",
   "name": "python3"
  },
  "language_info": {
   "codemirror_mode": {
    "name": "ipython",
    "version": 3
   },
   "file_extension": ".py",
   "mimetype": "text/x-python",
   "name": "python",
   "nbconvert_exporter": "python",
   "pygments_lexer": "ipython3",
   "version": "3.13.2"
  }
 },
 "nbformat": 4,
 "nbformat_minor": 5
}
