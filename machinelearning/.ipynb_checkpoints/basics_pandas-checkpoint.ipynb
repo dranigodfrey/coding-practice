{
 "cells": [
  {
   "cell_type": "code",
   "execution_count": 1,
   "id": "9fa8654c-3925-4cb2-b870-83d340aec1ca",
   "metadata": {},
   "outputs": [],
   "source": [
    "import pandas as pd"
   ]
  },
  {
   "cell_type": "code",
   "execution_count": 29,
   "id": "ef29c8a9-9496-445b-9dce-6db7e8cbc56e",
   "metadata": {},
   "outputs": [],
   "source": [
    "data = {\n",
    "    \"Name\":[\"drani\", \"martin\", \"gerald\", \"oliver\"],\n",
    "    \"Math\":[67, 66, 55, 79],\n",
    "    \"Economics\":[84, 75, 60, 84],\n",
    "    \"Pysics\":[60, 73, 46, 82],\n",
    "    \"ICT\":[95, 84, 90, 70],\n",
    "    \"GP\":[50, 90, 60, 83],\n",
    "    \n",
    "       }"
   ]
  },
  {
   "cell_type": "code",
   "execution_count": 30,
   "id": "b1034bbb-a46b-4475-8508-770528796e9f",
   "metadata": {},
   "outputs": [],
   "source": [
    "# convert into dataframe\n",
    "df = pd.DataFrame(data)"
   ]
  },
  {
   "cell_type": "code",
   "execution_count": 32,
   "id": "c0627164-8af7-4afa-8aa7-58065368a266",
   "metadata": {},
   "outputs": [
    {
     "data": {
      "text/html": [
       "<div>\n",
       "<style scoped>\n",
       "    .dataframe tbody tr th:only-of-type {\n",
       "        vertical-align: middle;\n",
       "    }\n",
       "\n",
       "    .dataframe tbody tr th {\n",
       "        vertical-align: top;\n",
       "    }\n",
       "\n",
       "    .dataframe thead th {\n",
       "        text-align: right;\n",
       "    }\n",
       "</style>\n",
       "<table border=\"1\" class=\"dataframe\">\n",
       "  <thead>\n",
       "    <tr style=\"text-align: right;\">\n",
       "      <th></th>\n",
       "      <th>Name</th>\n",
       "      <th>Math</th>\n",
       "      <th>Economics</th>\n",
       "      <th>Pysics</th>\n",
       "      <th>ICT</th>\n",
       "      <th>GP</th>\n",
       "    </tr>\n",
       "  </thead>\n",
       "  <tbody>\n",
       "    <tr>\n",
       "      <th>0</th>\n",
       "      <td>drani</td>\n",
       "      <td>67</td>\n",
       "      <td>84</td>\n",
       "      <td>60</td>\n",
       "      <td>95</td>\n",
       "      <td>50</td>\n",
       "    </tr>\n",
       "    <tr>\n",
       "      <th>1</th>\n",
       "      <td>martin</td>\n",
       "      <td>66</td>\n",
       "      <td>75</td>\n",
       "      <td>73</td>\n",
       "      <td>84</td>\n",
       "      <td>90</td>\n",
       "    </tr>\n",
       "    <tr>\n",
       "      <th>2</th>\n",
       "      <td>gerald</td>\n",
       "      <td>55</td>\n",
       "      <td>60</td>\n",
       "      <td>46</td>\n",
       "      <td>90</td>\n",
       "      <td>60</td>\n",
       "    </tr>\n",
       "    <tr>\n",
       "      <th>3</th>\n",
       "      <td>oliver</td>\n",
       "      <td>79</td>\n",
       "      <td>84</td>\n",
       "      <td>82</td>\n",
       "      <td>70</td>\n",
       "      <td>83</td>\n",
       "    </tr>\n",
       "  </tbody>\n",
       "</table>\n",
       "</div>"
      ],
      "text/plain": [
       "     Name  Math  Economics  Pysics  ICT  GP\n",
       "0   drani    67         84      60   95  50\n",
       "1  martin    66         75      73   84  90\n",
       "2  gerald    55         60      46   90  60\n",
       "3  oliver    79         84      82   70  83"
      ]
     },
     "execution_count": 32,
     "metadata": {},
     "output_type": "execute_result"
    }
   ],
   "source": [
    "df.head()"
   ]
  },
  {
   "cell_type": "code",
   "execution_count": 33,
   "id": "9e8d7e55-758f-4edc-aab1-ac1fa6ab8a8a",
   "metadata": {},
   "outputs": [
    {
     "data": {
      "text/html": [
       "<div>\n",
       "<style scoped>\n",
       "    .dataframe tbody tr th:only-of-type {\n",
       "        vertical-align: middle;\n",
       "    }\n",
       "\n",
       "    .dataframe tbody tr th {\n",
       "        vertical-align: top;\n",
       "    }\n",
       "\n",
       "    .dataframe thead th {\n",
       "        text-align: right;\n",
       "    }\n",
       "</style>\n",
       "<table border=\"1\" class=\"dataframe\">\n",
       "  <thead>\n",
       "    <tr style=\"text-align: right;\">\n",
       "      <th></th>\n",
       "      <th>Name</th>\n",
       "      <th>Math</th>\n",
       "      <th>Economics</th>\n",
       "      <th>Pysics</th>\n",
       "      <th>ICT</th>\n",
       "      <th>GP</th>\n",
       "    </tr>\n",
       "  </thead>\n",
       "  <tbody>\n",
       "    <tr>\n",
       "      <th>0</th>\n",
       "      <td>drani</td>\n",
       "      <td>67</td>\n",
       "      <td>84</td>\n",
       "      <td>60</td>\n",
       "      <td>95</td>\n",
       "      <td>50</td>\n",
       "    </tr>\n",
       "    <tr>\n",
       "      <th>1</th>\n",
       "      <td>martin</td>\n",
       "      <td>66</td>\n",
       "      <td>75</td>\n",
       "      <td>73</td>\n",
       "      <td>84</td>\n",
       "      <td>90</td>\n",
       "    </tr>\n",
       "    <tr>\n",
       "      <th>2</th>\n",
       "      <td>gerald</td>\n",
       "      <td>55</td>\n",
       "      <td>60</td>\n",
       "      <td>46</td>\n",
       "      <td>90</td>\n",
       "      <td>60</td>\n",
       "    </tr>\n",
       "    <tr>\n",
       "      <th>3</th>\n",
       "      <td>oliver</td>\n",
       "      <td>79</td>\n",
       "      <td>84</td>\n",
       "      <td>82</td>\n",
       "      <td>70</td>\n",
       "      <td>83</td>\n",
       "    </tr>\n",
       "  </tbody>\n",
       "</table>\n",
       "</div>"
      ],
      "text/plain": [
       "     Name  Math  Economics  Pysics  ICT  GP\n",
       "0   drani    67         84      60   95  50\n",
       "1  martin    66         75      73   84  90\n",
       "2  gerald    55         60      46   90  60\n",
       "3  oliver    79         84      82   70  83"
      ]
     },
     "execution_count": 33,
     "metadata": {},
     "output_type": "execute_result"
    }
   ],
   "source": [
    "df.tail()"
   ]
  },
  {
   "cell_type": "code",
   "execution_count": 34,
   "id": "e6e06721-6310-4845-a3f8-023a94d5cabb",
   "metadata": {},
   "outputs": [
    {
     "data": {
      "text/html": [
       "<div>\n",
       "<style scoped>\n",
       "    .dataframe tbody tr th:only-of-type {\n",
       "        vertical-align: middle;\n",
       "    }\n",
       "\n",
       "    .dataframe tbody tr th {\n",
       "        vertical-align: top;\n",
       "    }\n",
       "\n",
       "    .dataframe thead th {\n",
       "        text-align: right;\n",
       "    }\n",
       "</style>\n",
       "<table border=\"1\" class=\"dataframe\">\n",
       "  <thead>\n",
       "    <tr style=\"text-align: right;\">\n",
       "      <th></th>\n",
       "      <th>Math</th>\n",
       "      <th>Economics</th>\n",
       "      <th>Pysics</th>\n",
       "      <th>ICT</th>\n",
       "      <th>GP</th>\n",
       "    </tr>\n",
       "  </thead>\n",
       "  <tbody>\n",
       "    <tr>\n",
       "      <th>count</th>\n",
       "      <td>4.000000</td>\n",
       "      <td>4.000000</td>\n",
       "      <td>4.000000</td>\n",
       "      <td>4.000000</td>\n",
       "      <td>4.000000</td>\n",
       "    </tr>\n",
       "    <tr>\n",
       "      <th>mean</th>\n",
       "      <td>66.750000</td>\n",
       "      <td>75.750000</td>\n",
       "      <td>65.250000</td>\n",
       "      <td>84.750000</td>\n",
       "      <td>70.750000</td>\n",
       "    </tr>\n",
       "    <tr>\n",
       "      <th>std</th>\n",
       "      <td>9.810708</td>\n",
       "      <td>11.324752</td>\n",
       "      <td>15.692355</td>\n",
       "      <td>10.812801</td>\n",
       "      <td>18.856917</td>\n",
       "    </tr>\n",
       "    <tr>\n",
       "      <th>min</th>\n",
       "      <td>55.000000</td>\n",
       "      <td>60.000000</td>\n",
       "      <td>46.000000</td>\n",
       "      <td>70.000000</td>\n",
       "      <td>50.000000</td>\n",
       "    </tr>\n",
       "    <tr>\n",
       "      <th>25%</th>\n",
       "      <td>63.250000</td>\n",
       "      <td>71.250000</td>\n",
       "      <td>56.500000</td>\n",
       "      <td>80.500000</td>\n",
       "      <td>57.500000</td>\n",
       "    </tr>\n",
       "    <tr>\n",
       "      <th>50%</th>\n",
       "      <td>66.500000</td>\n",
       "      <td>79.500000</td>\n",
       "      <td>66.500000</td>\n",
       "      <td>87.000000</td>\n",
       "      <td>71.500000</td>\n",
       "    </tr>\n",
       "    <tr>\n",
       "      <th>75%</th>\n",
       "      <td>70.000000</td>\n",
       "      <td>84.000000</td>\n",
       "      <td>75.250000</td>\n",
       "      <td>91.250000</td>\n",
       "      <td>84.750000</td>\n",
       "    </tr>\n",
       "    <tr>\n",
       "      <th>max</th>\n",
       "      <td>79.000000</td>\n",
       "      <td>84.000000</td>\n",
       "      <td>82.000000</td>\n",
       "      <td>95.000000</td>\n",
       "      <td>90.000000</td>\n",
       "    </tr>\n",
       "  </tbody>\n",
       "</table>\n",
       "</div>"
      ],
      "text/plain": [
       "            Math  Economics     Pysics        ICT         GP\n",
       "count   4.000000   4.000000   4.000000   4.000000   4.000000\n",
       "mean   66.750000  75.750000  65.250000  84.750000  70.750000\n",
       "std     9.810708  11.324752  15.692355  10.812801  18.856917\n",
       "min    55.000000  60.000000  46.000000  70.000000  50.000000\n",
       "25%    63.250000  71.250000  56.500000  80.500000  57.500000\n",
       "50%    66.500000  79.500000  66.500000  87.000000  71.500000\n",
       "75%    70.000000  84.000000  75.250000  91.250000  84.750000\n",
       "max    79.000000  84.000000  82.000000  95.000000  90.000000"
      ]
     },
     "execution_count": 34,
     "metadata": {},
     "output_type": "execute_result"
    }
   ],
   "source": [
    "df.describe()"
   ]
  },
  {
   "cell_type": "code",
   "execution_count": 36,
   "id": "c339a8b6-e685-4153-ac4f-8162fec47dd2",
   "metadata": {},
   "outputs": [
    {
     "data": {
      "text/html": [
       "<div>\n",
       "<style scoped>\n",
       "    .dataframe tbody tr th:only-of-type {\n",
       "        vertical-align: middle;\n",
       "    }\n",
       "\n",
       "    .dataframe tbody tr th {\n",
       "        vertical-align: top;\n",
       "    }\n",
       "\n",
       "    .dataframe thead th {\n",
       "        text-align: right;\n",
       "    }\n",
       "</style>\n",
       "<table border=\"1\" class=\"dataframe\">\n",
       "  <thead>\n",
       "    <tr style=\"text-align: right;\">\n",
       "      <th></th>\n",
       "      <th>Name</th>\n",
       "      <th>Math</th>\n",
       "      <th>Economics</th>\n",
       "      <th>Pysics</th>\n",
       "      <th>ICT</th>\n",
       "      <th>GP</th>\n",
       "    </tr>\n",
       "  </thead>\n",
       "  <tbody>\n",
       "    <tr>\n",
       "      <th>0</th>\n",
       "      <td>drani</td>\n",
       "      <td>67</td>\n",
       "      <td>84</td>\n",
       "      <td>60</td>\n",
       "      <td>95</td>\n",
       "      <td>50</td>\n",
       "    </tr>\n",
       "    <tr>\n",
       "      <th>1</th>\n",
       "      <td>martin</td>\n",
       "      <td>66</td>\n",
       "      <td>75</td>\n",
       "      <td>73</td>\n",
       "      <td>84</td>\n",
       "      <td>90</td>\n",
       "    </tr>\n",
       "    <tr>\n",
       "      <th>2</th>\n",
       "      <td>gerald</td>\n",
       "      <td>55</td>\n",
       "      <td>60</td>\n",
       "      <td>46</td>\n",
       "      <td>90</td>\n",
       "      <td>60</td>\n",
       "    </tr>\n",
       "    <tr>\n",
       "      <th>3</th>\n",
       "      <td>oliver</td>\n",
       "      <td>79</td>\n",
       "      <td>84</td>\n",
       "      <td>82</td>\n",
       "      <td>70</td>\n",
       "      <td>83</td>\n",
       "    </tr>\n",
       "  </tbody>\n",
       "</table>\n",
       "</div>"
      ],
      "text/plain": [
       "     Name  Math  Economics  Pysics  ICT  GP\n",
       "0   drani    67         84      60   95  50\n",
       "1  martin    66         75      73   84  90\n",
       "2  gerald    55         60      46   90  60\n",
       "3  oliver    79         84      82   70  83"
      ]
     },
     "execution_count": 36,
     "metadata": {},
     "output_type": "execute_result"
    }
   ],
   "source": [
    "df"
   ]
  },
  {
   "cell_type": "code",
   "execution_count": 39,
   "id": "8b5dfa1e-b092-4d16-803a-ce0060e2da72",
   "metadata": {},
   "outputs": [],
   "source": [
    "c = df[[\"Math\", \"Economics\", \"Pysics\", \"ICT\", \"GP\"]]"
   ]
  },
  {
   "cell_type": "code",
   "execution_count": 54,
   "id": "9457dca1-944e-449f-ac2e-a758cda89168",
   "metadata": {},
   "outputs": [],
   "source": [
    "df[\"Ave_marks\"] = 0"
   ]
  },
  {
   "cell_type": "code",
   "execution_count": 55,
   "id": "62ef0212-b859-45cf-a29d-8e8f9490c7c4",
   "metadata": {},
   "outputs": [
    {
     "data": {
      "text/html": [
       "<div>\n",
       "<style scoped>\n",
       "    .dataframe tbody tr th:only-of-type {\n",
       "        vertical-align: middle;\n",
       "    }\n",
       "\n",
       "    .dataframe tbody tr th {\n",
       "        vertical-align: top;\n",
       "    }\n",
       "\n",
       "    .dataframe thead th {\n",
       "        text-align: right;\n",
       "    }\n",
       "</style>\n",
       "<table border=\"1\" class=\"dataframe\">\n",
       "  <thead>\n",
       "    <tr style=\"text-align: right;\">\n",
       "      <th></th>\n",
       "      <th>Name</th>\n",
       "      <th>Math</th>\n",
       "      <th>Economics</th>\n",
       "      <th>Pysics</th>\n",
       "      <th>ICT</th>\n",
       "      <th>GP</th>\n",
       "      <th>Ave_marks</th>\n",
       "    </tr>\n",
       "  </thead>\n",
       "  <tbody>\n",
       "    <tr>\n",
       "      <th>0</th>\n",
       "      <td>drani</td>\n",
       "      <td>67</td>\n",
       "      <td>84</td>\n",
       "      <td>60</td>\n",
       "      <td>95</td>\n",
       "      <td>50</td>\n",
       "      <td>0</td>\n",
       "    </tr>\n",
       "    <tr>\n",
       "      <th>1</th>\n",
       "      <td>martin</td>\n",
       "      <td>66</td>\n",
       "      <td>75</td>\n",
       "      <td>73</td>\n",
       "      <td>84</td>\n",
       "      <td>90</td>\n",
       "      <td>0</td>\n",
       "    </tr>\n",
       "    <tr>\n",
       "      <th>2</th>\n",
       "      <td>gerald</td>\n",
       "      <td>55</td>\n",
       "      <td>60</td>\n",
       "      <td>46</td>\n",
       "      <td>90</td>\n",
       "      <td>60</td>\n",
       "      <td>0</td>\n",
       "    </tr>\n",
       "    <tr>\n",
       "      <th>3</th>\n",
       "      <td>oliver</td>\n",
       "      <td>79</td>\n",
       "      <td>84</td>\n",
       "      <td>82</td>\n",
       "      <td>70</td>\n",
       "      <td>83</td>\n",
       "      <td>0</td>\n",
       "    </tr>\n",
       "  </tbody>\n",
       "</table>\n",
       "</div>"
      ],
      "text/plain": [
       "     Name  Math  Economics  Pysics  ICT  GP  Ave_marks\n",
       "0   drani    67         84      60   95  50          0\n",
       "1  martin    66         75      73   84  90          0\n",
       "2  gerald    55         60      46   90  60          0\n",
       "3  oliver    79         84      82   70  83          0"
      ]
     },
     "execution_count": 55,
     "metadata": {},
     "output_type": "execute_result"
    }
   ],
   "source": [
    "df"
   ]
  },
  {
   "cell_type": "code",
   "execution_count": 88,
   "id": "ce06d6d0-134a-4d0d-80b4-c742467e9e47",
   "metadata": {},
   "outputs": [
    {
     "data": {
      "text/html": [
       "<div>\n",
       "<style scoped>\n",
       "    .dataframe tbody tr th:only-of-type {\n",
       "        vertical-align: middle;\n",
       "    }\n",
       "\n",
       "    .dataframe tbody tr th {\n",
       "        vertical-align: top;\n",
       "    }\n",
       "\n",
       "    .dataframe thead th {\n",
       "        text-align: right;\n",
       "    }\n",
       "</style>\n",
       "<table border=\"1\" class=\"dataframe\">\n",
       "  <thead>\n",
       "    <tr style=\"text-align: right;\">\n",
       "      <th></th>\n",
       "      <th>Math</th>\n",
       "      <th>Economics</th>\n",
       "      <th>Pysics</th>\n",
       "    </tr>\n",
       "  </thead>\n",
       "  <tbody>\n",
       "    <tr>\n",
       "      <th>0</th>\n",
       "      <td>67</td>\n",
       "      <td>84</td>\n",
       "      <td>60</td>\n",
       "    </tr>\n",
       "    <tr>\n",
       "      <th>1</th>\n",
       "      <td>66</td>\n",
       "      <td>75</td>\n",
       "      <td>73</td>\n",
       "    </tr>\n",
       "  </tbody>\n",
       "</table>\n",
       "</div>"
      ],
      "text/plain": [
       "   Math  Economics  Pysics\n",
       "0    67         84      60\n",
       "1    66         75      73"
      ]
     },
     "execution_count": 88,
     "metadata": {},
     "output_type": "execute_result"
    }
   ],
   "source": [
    "df.iloc[0:2,1:4]"
   ]
  },
  {
   "cell_type": "code",
   "execution_count": 100,
   "id": "97dba39c-3e24-4b8d-88bc-49ac4750e5e9",
   "metadata": {},
   "outputs": [
    {
     "data": {
      "text/plain": [
       "Math         66.75\n",
       "Economics    75.75\n",
       "Pysics       65.25\n",
       "ICT          84.75\n",
       "GP           70.75\n",
       "Ave_marks     0.00\n",
       "dtype: float64"
      ]
     },
     "execution_count": 100,
     "metadata": {},
     "output_type": "execute_result"
    }
   ],
   "source": [
    "df.iloc[:, 1:].mean()"
   ]
  },
  {
   "cell_type": "code",
   "execution_count": 109,
   "id": "cd6ea2c9-6e06-479e-96cf-a4f81d27fdb7",
   "metadata": {},
   "outputs": [
    {
     "data": {
      "text/plain": [
       "0     Drani\n",
       "1    Martin\n",
       "2    Gerald\n",
       "3    Oliver\n",
       "Name: Name, dtype: object"
      ]
     },
     "execution_count": 109,
     "metadata": {},
     "output_type": "execute_result"
    }
   ],
   "source": [
    "df[\"Name\"].str.title()"
   ]
  },
  {
   "cell_type": "code",
   "execution_count": 118,
   "id": "9791aa0c-f7e1-4f8a-821e-9b374b3c797c",
   "metadata": {},
   "outputs": [
    {
     "data": {
      "text/plain": [
       "0     Drani\n",
       "1    Martin\n",
       "2    Gerald\n",
       "3    Oliver\n",
       "Name: Name, dtype: object"
      ]
     },
     "execution_count": 118,
     "metadata": {},
     "output_type": "execute_result"
    }
   ],
   "source": [
    "df.iloc[:,0].str.title()"
   ]
  },
  {
   "cell_type": "code",
   "execution_count": 122,
   "id": "3a575e40-28c3-4d1a-8b4f-bf21117cef88",
   "metadata": {},
   "outputs": [],
   "source": [
    "data1 = pd.DataFrame({\"name\": \"drani\",\"age\":16}, index=[1])\n",
    "data2 = pd.DataFrame({\"name\": \"bensar\",\"age\":20}, index=[1])"
   ]
  },
  {
   "cell_type": "code",
   "execution_count": 123,
   "id": "b2ccad87-3871-47a5-a6d4-29a1563a851d",
   "metadata": {},
   "outputs": [
    {
     "data": {
      "text/html": [
       "<div>\n",
       "<style scoped>\n",
       "    .dataframe tbody tr th:only-of-type {\n",
       "        vertical-align: middle;\n",
       "    }\n",
       "\n",
       "    .dataframe tbody tr th {\n",
       "        vertical-align: top;\n",
       "    }\n",
       "\n",
       "    .dataframe thead th {\n",
       "        text-align: right;\n",
       "    }\n",
       "</style>\n",
       "<table border=\"1\" class=\"dataframe\">\n",
       "  <thead>\n",
       "    <tr style=\"text-align: right;\">\n",
       "      <th></th>\n",
       "      <th>name</th>\n",
       "      <th>age</th>\n",
       "    </tr>\n",
       "  </thead>\n",
       "  <tbody>\n",
       "    <tr>\n",
       "      <th>1</th>\n",
       "      <td>drani</td>\n",
       "      <td>16</td>\n",
       "    </tr>\n",
       "  </tbody>\n",
       "</table>\n",
       "</div>"
      ],
      "text/plain": [
       "    name  age\n",
       "1  drani   16"
      ]
     },
     "execution_count": 123,
     "metadata": {},
     "output_type": "execute_result"
    }
   ],
   "source": [
    "data1"
   ]
  },
  {
   "cell_type": "code",
   "execution_count": 124,
   "id": "d7c79618-155b-4ab2-8573-c9b3806e3fa1",
   "metadata": {},
   "outputs": [
    {
     "data": {
      "text/html": [
       "<div>\n",
       "<style scoped>\n",
       "    .dataframe tbody tr th:only-of-type {\n",
       "        vertical-align: middle;\n",
       "    }\n",
       "\n",
       "    .dataframe tbody tr th {\n",
       "        vertical-align: top;\n",
       "    }\n",
       "\n",
       "    .dataframe thead th {\n",
       "        text-align: right;\n",
       "    }\n",
       "</style>\n",
       "<table border=\"1\" class=\"dataframe\">\n",
       "  <thead>\n",
       "    <tr style=\"text-align: right;\">\n",
       "      <th></th>\n",
       "      <th>name</th>\n",
       "      <th>age</th>\n",
       "    </tr>\n",
       "  </thead>\n",
       "  <tbody>\n",
       "    <tr>\n",
       "      <th>1</th>\n",
       "      <td>bensar</td>\n",
       "      <td>20</td>\n",
       "    </tr>\n",
       "  </tbody>\n",
       "</table>\n",
       "</div>"
      ],
      "text/plain": [
       "     name  age\n",
       "1  bensar   20"
      ]
     },
     "execution_count": 124,
     "metadata": {},
     "output_type": "execute_result"
    }
   ],
   "source": [
    "data2"
   ]
  },
  {
   "cell_type": "code",
   "execution_count": 126,
   "id": "30405cc7-9338-440e-a02a-d3d534e0ebba",
   "metadata": {},
   "outputs": [],
   "source": [
    "full_data = pd.concat([data1, data2])"
   ]
  },
  {
   "cell_type": "code",
   "execution_count": 127,
   "id": "f3ac0cd6-eddc-4b17-8b37-b4b239d12d60",
   "metadata": {},
   "outputs": [
    {
     "data": {
      "text/html": [
       "<div>\n",
       "<style scoped>\n",
       "    .dataframe tbody tr th:only-of-type {\n",
       "        vertical-align: middle;\n",
       "    }\n",
       "\n",
       "    .dataframe tbody tr th {\n",
       "        vertical-align: top;\n",
       "    }\n",
       "\n",
       "    .dataframe thead th {\n",
       "        text-align: right;\n",
       "    }\n",
       "</style>\n",
       "<table border=\"1\" class=\"dataframe\">\n",
       "  <thead>\n",
       "    <tr style=\"text-align: right;\">\n",
       "      <th></th>\n",
       "      <th>name</th>\n",
       "      <th>age</th>\n",
       "    </tr>\n",
       "  </thead>\n",
       "  <tbody>\n",
       "    <tr>\n",
       "      <th>1</th>\n",
       "      <td>drani</td>\n",
       "      <td>16</td>\n",
       "    </tr>\n",
       "    <tr>\n",
       "      <th>1</th>\n",
       "      <td>bensar</td>\n",
       "      <td>20</td>\n",
       "    </tr>\n",
       "  </tbody>\n",
       "</table>\n",
       "</div>"
      ],
      "text/plain": [
       "     name  age\n",
       "1   drani   16\n",
       "1  bensar   20"
      ]
     },
     "execution_count": 127,
     "metadata": {},
     "output_type": "execute_result"
    }
   ],
   "source": [
    "full_data"
   ]
  },
  {
   "cell_type": "code",
   "execution_count": null,
   "id": "a92d4b5a-70f4-4b58-a25b-d9a75d84e026",
   "metadata": {},
   "outputs": [],
   "source": []
  }
 ],
 "metadata": {
  "kernelspec": {
   "display_name": "Python 3 (ipykernel)",
   "language": "python",
   "name": "python3"
  },
  "language_info": {
   "codemirror_mode": {
    "name": "ipython",
    "version": 3
   },
   "file_extension": ".py",
   "mimetype": "text/x-python",
   "name": "python",
   "nbconvert_exporter": "python",
   "pygments_lexer": "ipython3",
   "version": "3.12.3"
  }
 },
 "nbformat": 4,
 "nbformat_minor": 5
}
